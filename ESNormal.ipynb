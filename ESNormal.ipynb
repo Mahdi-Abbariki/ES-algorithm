{
 "cells": [
  {
   "attachments": {},
   "cell_type": "markdown",
   "metadata": {},
   "source": [
    "<h4 >Mahdi Abbariki</h4>\n",
    "<h5>983212001</h5>"
   ]
  },
  {
   "attachments": {},
   "cell_type": "markdown",
   "metadata": {},
   "source": [
    "objective: <br>\n",
    "    minimizing equation using ES algorithm"
   ]
  },
  {
   "attachments": {},
   "cell_type": "markdown",
   "metadata": {},
   "source": [
    "First we import methods and libraries we need"
   ]
  },
  {
   "cell_type": "code",
   "execution_count": 164,
   "metadata": {},
   "outputs": [],
   "source": [
    "from numpy import power\n",
    "from numpy import sum\n",
    "from numpy.random import uniform\n",
    "from numpy.random import normal\n",
    "from numpy import argsort"
   ]
  },
  {
   "attachments": {},
   "cell_type": "markdown",
   "metadata": {},
   "source": [
    "define a method to evaluate equation"
   ]
  },
  {
   "cell_type": "code",
   "execution_count": 165,
   "metadata": {},
   "outputs": [],
   "source": [
    "def objective(x,n):\n",
    "    powers = power(x[:n], 2)\n",
    "    return sum(powers)"
   ]
  },
  {
   "attachments": {},
   "cell_type": "markdown",
   "metadata": {},
   "source": [
    "define a method to check if a generated candidate is in the specified bounds or not"
   ]
  },
  {
   "cell_type": "code",
   "execution_count": 166,
   "metadata": {},
   "outputs": [],
   "source": [
    "def in_bounds(point, bounds):\n",
    "    for i in range(len(point)):\n",
    "        item = point[i]\n",
    "        if item < bounds[0] or item > bounds[1]:\n",
    "            return False\n",
    "    return True"
   ]
  },
  {
   "attachments": {},
   "cell_type": "markdown",
   "metadata": {},
   "source": [
    "create initial population"
   ]
  },
  {
   "cell_type": "code",
   "execution_count": 167,
   "metadata": {},
   "outputs": [],
   "source": [
    "def initPopulation(lam,bounds,n):\n",
    "    population = list()\n",
    "    for _ in range(lam):\n",
    "        candidate = None\n",
    "        while candidate is None or not in_bounds(candidate, bounds):\n",
    "            candidate = []\n",
    "            for _ in range(n):\n",
    "                candidate.append(uniform(low=bounds[0], high=bounds[1]))\n",
    "        population.append(candidate)\n",
    "    return population"
   ]
  },
  {
   "attachments": {},
   "cell_type": "markdown",
   "metadata": {},
   "source": [
    "now we can create the esPlus method to deal with searching"
   ]
  },
  {
   "cell_type": "code",
   "execution_count": 168,
   "metadata": {},
   "outputs": [],
   "source": [
    "def esPlus(mu,lam,maxIter,objective,bounds,n):\n",
    "    best, best_eval = None, 1e+100\n",
    "    n_children = int(lam / mu)\n",
    "    population = initPopulation(lam,bounds,n)\n",
    "\n",
    "\n",
    "    # perform the search\n",
    "    for epoch in range(maxIter):\n",
    "\t    # evaluate fitness for the population\n",
    "        scores = [objective(c,n) for c in population]\n",
    "        # rank scores in ascending order\n",
    "        ranks = argsort(argsort(scores))\n",
    "        # select the indexes for the top mu ranked solutions\n",
    "        selected = [i for i,_ in enumerate(ranks) if ranks[i] < mu]\n",
    "\n",
    "        #create children\n",
    "        children = []\n",
    "        for i in selected:\n",
    "            #update best and best eval based on parent\n",
    "            if scores[i] < best_eval:\n",
    "                best, best_eval = population[i], scores[i]\n",
    "           \n",
    "            # keep the parent\n",
    "            children.append(population[i])\n",
    "            # create children for parent\n",
    "            for _ in range(n_children):\n",
    "                child = None\n",
    "                while child is None or not in_bounds(child,bounds):\n",
    "                    child = []\n",
    "                    for j in range(n):\n",
    "                        child.append(population[i][j] + normal(loc=0, scale=1))\n",
    "                children.append(child)\n",
    "            \n",
    "        # replace current populations with children\n",
    "        population = children\n",
    "    return [best,best_eval]"
   ]
  },
  {
   "attachments": {},
   "cell_type": "markdown",
   "metadata": {},
   "source": [
    "specify the inputs and run the algorithm"
   ]
  },
  {
   "cell_type": "code",
   "execution_count": 169,
   "metadata": {},
   "outputs": [
    {
     "name": "stdout",
     "output_type": "stream",
     "text": [
      "Done!\n",
      "f([0.6639349103984582, -0.45830326990113424, -1.4739187450345457, 1.0129037243440733, -1.0274204357120773, -0.8297071755083694, 0.2636409073197854, 0.1611306275188084, 1.1626922517797729, 1.7859526904327525, 0.7444029334225352, 1.1016781990907893, -0.930439673024618, -2.081355931874344, -0.4539312473895782, -0.27693045432856345, -0.31901339724631794, 2.0790294647646657, 1.5228213890403723, -1.0601522702322055, 0.28216313712748353, 0.27778597094058477, 1.462704406637414, -0.8271654740342743, 0.34037291174589135, 0.035808936193181706, 0.20746686055038968, -1.8384730038333945, 0.4772955848777788, -1.402693605599711, 0.2932547098086601, -0.38519119008284375, -3.33892248068039, 1.9335337673458686, -1.3621735987070236, -1.4093016195707753, -0.47160274876345515, -1.3706929982611327, 0.42502202798830346, 0.7504230649070505, -0.24285686373643234, 1.753299651227901, 1.1384245158581594, 1.921854268344147, 0.463537054440627, 1.427993249542872, -1.2118532019927026, -0.26233609258615465, 0.9358859257958169, 0.8362003158097877, -1.5550032478259928, -2.0766846569540927, -1.0499719046786016, -0.5571656756459964, -2.4532771660446313, -1.0472166116110966, -1.169265593252902, 0.11465759363256278, -2.239870824921899, 2.162108499041088, -1.534003041367849, -1.0113785823316568, -1.3879564827951976, 1.5802442353937631, 2.650928110191416, 1.697448109752524, -0.9515717823497521, 0.22383020979107848, 0.8113112229989183, 0.9546960650189306, -1.0417490565769219, -1.5180128107980664, -1.651386794487173, -1.3487843747494979, 0.8768177748320237, 0.7728726927872485, 1.2653783153376328, -1.6752929024099117, -0.279071072555697, -0.03949715179903901, -2.218070458857712, 0.705631000233411, -0.49145357664023986, 0.5973690451576092, -0.13193730593325953, -0.5983686531856192, 1.4933218191041917, -0.5187486613750512, -0.7542157801824856, 1.0457948172143419, -0.3183282875270485, -2.191123042015037, -0.6925847728791703, 1.179287039942989, -3.2114605072527755, -0.3920870202829001, 0.6326523042432927, 0.21193920399966645, -1.164197129067255, -1.0642724490070772]) = 160.438817\n"
     ]
    }
   ],
   "source": [
    "bounds = [-100,100]\n",
    "\n",
    "maxIterations = 100000\n",
    "\n",
    "mu = 1\n",
    "\n",
    "lam = 1\n",
    "\n",
    "n = 100\n",
    "\n",
    "best, score = esPlus(mu,lam,maxIterations,objective,bounds,n)\n",
    "print('Done!')\n",
    "print('f(%s) = %f' % (best, score))\n"
   ]
  }
 ],
 "metadata": {
  "kernelspec": {
   "display_name": "Python 3",
   "language": "python",
   "name": "python3"
  },
  "language_info": {
   "codemirror_mode": {
    "name": "ipython",
    "version": 3
   },
   "file_extension": ".py",
   "mimetype": "text/x-python",
   "name": "python",
   "nbconvert_exporter": "python",
   "pygments_lexer": "ipython3",
   "version": "3.10.6"
  },
  "orig_nbformat": 4,
  "vscode": {
   "interpreter": {
    "hash": "916dbcbb3f70747c44a77c7bcd40155683ae19c65e1c03b4aa3499c5328201f1"
   }
  }
 },
 "nbformat": 4,
 "nbformat_minor": 2
}
