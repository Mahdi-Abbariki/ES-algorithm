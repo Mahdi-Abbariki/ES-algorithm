{
 "cells": [
  {
   "attachments": {},
   "cell_type": "markdown",
   "metadata": {},
   "source": [
    "<h4 >Mahdi Abbariki</h4>\n",
    "<h5>983212001</h5>"
   ]
  },
  {
   "attachments": {},
   "cell_type": "markdown",
   "metadata": {},
   "source": [
    "objective: <br>\n",
    "    minimizing equation using ES algorithm"
   ]
  },
  {
   "attachments": {},
   "cell_type": "markdown",
   "metadata": {},
   "source": [
    "First we import methods and libraries we need"
   ]
  },
  {
   "cell_type": "code",
   "execution_count": 283,
   "metadata": {},
   "outputs": [],
   "source": [
    "from numpy import power\n",
    "from numpy import sum\n",
    "from numpy.random import uniform\n",
    "from numpy.random import normal\n",
    "from numpy import argsort\n"
   ]
  },
  {
   "attachments": {},
   "cell_type": "markdown",
   "metadata": {},
   "source": [
    "define a method to evaluate equation"
   ]
  },
  {
   "cell_type": "code",
   "execution_count": 284,
   "metadata": {},
   "outputs": [],
   "source": [
    "def objective(x,n):\n",
    "    powers = power(x[:n], 2)\n",
    "    return sum(powers)"
   ]
  },
  {
   "attachments": {},
   "cell_type": "markdown",
   "metadata": {},
   "source": [
    "define a method to check if a generated candidate is in the specified bounds or not"
   ]
  },
  {
   "cell_type": "code",
   "execution_count": 285,
   "metadata": {},
   "outputs": [],
   "source": [
    "def in_bounds(point, bounds):\n",
    "    for i in range(len(point)):\n",
    "        item = point[i]\n",
    "        if item < bounds[0] or item > bounds[1]:\n",
    "            return False\n",
    "    return True"
   ]
  },
  {
   "attachments": {},
   "cell_type": "markdown",
   "metadata": {},
   "source": [
    "create initial population"
   ]
  },
  {
   "cell_type": "code",
   "execution_count": 286,
   "metadata": {},
   "outputs": [],
   "source": [
    "def initPopulation(lam,bounds,n):\n",
    "    population = list()\n",
    "    for _ in range(lam):\n",
    "        candidate = None\n",
    "        while candidate is None or not in_bounds(candidate, bounds):\n",
    "            candidate = []\n",
    "            for _ in range(n):\n",
    "                candidate.append(uniform(low=bounds[0], high=bounds[1]))\n",
    "        population.append(candidate)\n",
    "    return population"
   ]
  },
  {
   "attachments": {},
   "cell_type": "markdown",
   "metadata": {},
   "source": [
    "now we can create the esPlus method to deal with searching"
   ]
  },
  {
   "cell_type": "code",
   "execution_count": 287,
   "metadata": {},
   "outputs": [],
   "source": [
    "def esPlus(mu,lam,maxIter,objective,bounds,n):\n",
    "    best, best_eval = None, 1e+100\n",
    "    n_children = int(lam / mu)\n",
    "    population = initPopulation(lam,bounds,n)\n",
    "    normalScale = 1\n",
    "    normalScaleC = 0.9\n",
    "\n",
    "    # perform the search\n",
    "    for epoch in range(maxIter):\n",
    "\t    # evaluate fitness for the population\n",
    "        scores = [objective(c,n) for c in population]\n",
    "        # rank scores in ascending order\n",
    "        ranks = argsort(argsort(scores))\n",
    "        # select the indexes for the top mu ranked solutions\n",
    "        selected = [i for i,_ in enumerate(ranks) if ranks[i] < mu]\n",
    "\n",
    "        #create children\n",
    "        children = []\n",
    "        for i in selected:\n",
    "            #update best and best eval based on parent\n",
    "            if scores[i] < best_eval:\n",
    "                best, best_eval = population[i], scores[i]\n",
    "           \n",
    "            # keep the parent\n",
    "            children.append(population[i])\n",
    "            #count better children for calculating normalScare dynamically\n",
    "            betterChild = 0\n",
    "            # create children for parent\n",
    "            for _ in range(n_children):\n",
    "                child = None\n",
    "                while child is None or not in_bounds(child,bounds):\n",
    "                    child = []\n",
    "                    for j in range(n):\n",
    "                        child.append(population[i][j] + normal(loc=0, scale=normalScale))\n",
    "                if(objective(child,n) < objective(population[i],n)): # child is better than parent\n",
    "                    betterChild += 1\n",
    "                children.append(child)\n",
    "\n",
    "        # evaluate new scale for gaussian distribution\n",
    "        ps = betterChild / n_children\n",
    "        if(ps < 1/5):\n",
    "            normalScale *= normalScaleC\n",
    "        elif(ps > 1/5):\n",
    "            normalScale /= normalScaleC\n",
    "\n",
    "        # replace current populations with children\n",
    "        population = children\n",
    "    return [best,best_eval]"
   ]
  },
  {
   "attachments": {},
   "cell_type": "markdown",
   "metadata": {},
   "source": [
    "specify the inputs and run the algorithm"
   ]
  },
  {
   "cell_type": "code",
   "execution_count": 288,
   "metadata": {},
   "outputs": [
    {
     "name": "stdout",
     "output_type": "stream",
     "text": [
      "Done!\n",
      "f([-13.444982152235841, 7.278129690239458, 7.416441558529936, 1.9528036140676854, -3.085967102919726, 8.013942573162385, -4.23879298596588, -9.243668063474738, 5.7653191543153675, 5.472907950182471, -15.974630982962049, -7.417608696821107, -12.569478834977781, 6.713303583246035, 10.661050095703333, -9.58198486539092, 6.240654500256637, 3.010352442909869, 7.70782981917651, -4.852212477457648, 11.466084861892416, 7.328815468963529, 4.756443876392413, -6.370574771079475, 9.513545514170119, 8.198871546666126, 17.72577583357431, -11.267082402188258, 2.6987852818227505, 9.171258253482296, -21.507864615287218, -7.806373871548458, -17.674874672251608, 4.486555742212781, 22.616168000638737, 12.672123445068115, -13.530508796175521, -2.7420342520379455, 23.65071505953753, 12.395482766238938, -14.19997810392054, -11.59826464881041, 12.109299315004538, 1.9393735550074556, -8.787188803423557, -2.945030112399821, -5.730013721883973, 8.745427624193132, 5.633616767565129, 11.336953352662851, 18.83231015039928, -14.537194908081545, -5.5640139137330635, 9.868097984896213, -6.76355423751561, -7.1213617741798565, 8.452858382309072, 10.89272785964558, 5.977924411823507, -4.356446047872761, 7.65726936613728, 15.100179214240294, -0.30787713066485145, -22.705289410893148, 5.129791868783914, -0.17327376780558695, -3.2912841886669755, -17.62250363577908, -16.380363013260123, -3.1487764060912093, 7.2351199193873805, 5.772664043713246, 4.741249088012487, -3.390605696872832, -6.901068256421565, -0.5303020501144505, -8.776997096306859, 4.589292510155318, -18.397393593848175, 9.678487782290958, 9.630507674628365, 10.768417305717913, 6.983335755283585, -1.9218632961938134, 16.87160639658407, 8.06440930253536, 8.590879178404634, -0.10618258454107479, 8.119564025873778, -18.003275037978877, -11.537107856131456, -12.120213855977799, 1.7507917706319367, 12.052446999821866, -9.471649234775613, 1.5393179396861005, -9.230586238583442, -16.003925064941484, -9.210410879151773, 13.161750852119388]) = 10951.168149\n"
     ]
    }
   ],
   "source": [
    "bounds = [-100,100]\n",
    "\n",
    "maxIterations = 100000\n",
    "\n",
    "mu = 1\n",
    "\n",
    "lam = 1\n",
    "\n",
    "n = 100\n",
    "\n",
    "best, score = esPlus(mu,lam,maxIterations,objective,bounds,n)\n",
    "print('Done!')\n",
    "print('f(%s) = %f' % (best, score))\n"
   ]
  }
 ],
 "metadata": {
  "kernelspec": {
   "display_name": "Python 3",
   "language": "python",
   "name": "python3"
  },
  "language_info": {
   "codemirror_mode": {
    "name": "ipython",
    "version": 3
   },
   "file_extension": ".py",
   "mimetype": "text/x-python",
   "name": "python",
   "nbconvert_exporter": "python",
   "pygments_lexer": "ipython3",
   "version": "3.10.6"
  },
  "orig_nbformat": 4,
  "vscode": {
   "interpreter": {
    "hash": "916dbcbb3f70747c44a77c7bcd40155683ae19c65e1c03b4aa3499c5328201f1"
   }
  }
 },
 "nbformat": 4,
 "nbformat_minor": 2
}
