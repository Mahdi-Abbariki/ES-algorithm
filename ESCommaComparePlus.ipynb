{
 "cells": [
  {
   "attachments": {},
   "cell_type": "markdown",
   "metadata": {},
   "source": [
    "<h4 >Mahdi Abbariki</h4>\n",
    "<h5>983212001</h5>"
   ]
  },
  {
   "attachments": {},
   "cell_type": "markdown",
   "metadata": {},
   "source": [
    "objective: <br>\n",
    "    minimizing equation using ES algorithm"
   ]
  },
  {
   "attachments": {},
   "cell_type": "markdown",
   "metadata": {},
   "source": [
    "First we import methods and libraries we need"
   ]
  },
  {
   "cell_type": "code",
   "execution_count": 141,
   "metadata": {},
   "outputs": [],
   "source": [
    "from numpy import power\n",
    "from numpy import sum\n",
    "from numpy.random import uniform\n",
    "from numpy.random import normal\n",
    "from numpy import argsort\n"
   ]
  },
  {
   "attachments": {},
   "cell_type": "markdown",
   "metadata": {},
   "source": [
    "define a method to evaluate equation"
   ]
  },
  {
   "cell_type": "code",
   "execution_count": 142,
   "metadata": {},
   "outputs": [],
   "source": [
    "def objective(x,n):\n",
    "    powers = power(x[:n], 2)\n",
    "    return sum(powers)"
   ]
  },
  {
   "attachments": {},
   "cell_type": "markdown",
   "metadata": {},
   "source": [
    "define a method to check if a generated candidate is in the specified bounds or not"
   ]
  },
  {
   "cell_type": "code",
   "execution_count": 143,
   "metadata": {},
   "outputs": [],
   "source": [
    "def in_bounds(point, bounds):\n",
    "    for i in range(len(point)):\n",
    "        item = point[i]\n",
    "        if item < bounds[0] or item > bounds[1]:\n",
    "            return False\n",
    "    return True"
   ]
  },
  {
   "attachments": {},
   "cell_type": "markdown",
   "metadata": {},
   "source": [
    "create initial population"
   ]
  },
  {
   "cell_type": "code",
   "execution_count": 144,
   "metadata": {},
   "outputs": [],
   "source": [
    "def initPopulation(lam,bounds,n):\n",
    "    population = list()\n",
    "    for _ in range(lam):\n",
    "        candidate = None\n",
    "        while candidate is None or not in_bounds(candidate, bounds):\n",
    "            candidate = []\n",
    "            for _ in range(n):\n",
    "                candidate.append(uniform(low=bounds[0], high=bounds[1]))\n",
    "        population.append(candidate)\n",
    "    return population"
   ]
  },
  {
   "attachments": {},
   "cell_type": "markdown",
   "metadata": {},
   "source": [
    "now we can create the esPlus method to deal with searching"
   ]
  },
  {
   "cell_type": "code",
   "execution_count": 145,
   "metadata": {},
   "outputs": [],
   "source": [
    "def esPlus(mu, lam, maxIter, objective, bounds, n, population):\n",
    "    best, best_eval = None, 1e+100\n",
    "    n_children = int(lam / mu)\n",
    "    normalScale = 1\n",
    "    normalScaleC = 0.9\n",
    "\n",
    "    # perform the search\n",
    "    for epoch in range(maxIter):\n",
    "\t    # evaluate fitness for the population\n",
    "        scores = [objective(c,n) for c in population]\n",
    "        # rank scores in ascending order\n",
    "        ranks = argsort(argsort(scores))\n",
    "        # select the indexes for the top mu ranked solutions\n",
    "        selected = [i for i,_ in enumerate(ranks) if ranks[i] < mu]\n",
    "\n",
    "        #create children\n",
    "        children = []\n",
    "        for i in selected:\n",
    "            #update best and best eval based on parent\n",
    "            if scores[i] < best_eval:\n",
    "                best, best_eval = population[i], scores[i]\n",
    "           \n",
    "            # keep the parent\n",
    "            children.append(population[i])\n",
    "            #count better children for calculating normalScare dynamically\n",
    "            betterChild = 0\n",
    "            # create children for parent\n",
    "            for _ in range(n_children):\n",
    "                child = None\n",
    "                while child is None or not in_bounds(child,bounds):\n",
    "                    child = []\n",
    "                    for j in range(n):\n",
    "                        child.append(population[i][j] + normal(loc=0, scale=normalScale))\n",
    "                if(objective(child,n) < objective(population[i],n)): # child is better than parent\n",
    "                    betterChild += 1\n",
    "                children.append(child)\n",
    "        ps = betterChild / n_children\n",
    "\n",
    "        if(ps < 1/5):\n",
    "            normalScale *= normalScaleC\n",
    "        elif(ps > 1/5):\n",
    "            normalScale /= normalScaleC\n",
    "\n",
    "        # print(normalScale,ps,betterChild)\n",
    "\n",
    "        # replace current populations with children\n",
    "        population = children\n",
    "    return [best,best_eval]"
   ]
  },
  {
   "attachments": {},
   "cell_type": "markdown",
   "metadata": {},
   "source": [
    "create es comma algorithm as well"
   ]
  },
  {
   "cell_type": "code",
   "execution_count": 146,
   "metadata": {},
   "outputs": [],
   "source": [
    "def esComma(mu,lam,maxIter,objective,bounds,n,population):\n",
    "    best, best_eval = None, 1e+100\n",
    "    n_children = int(lam / mu)\n",
    "    normalScale = 1\n",
    "    normalScaleC = 0.9\n",
    "\n",
    "    # perform the search\n",
    "    for epoch in range(maxIter):\n",
    "\t    # evaluate fitness for the population\n",
    "        scores = [objective(c,n) for c in population]\n",
    "        # rank scores in ascending order\n",
    "        ranks = argsort(argsort(scores))\n",
    "        # select the indexes for the top mu ranked solutions\n",
    "        selected = [i for i,_ in enumerate(ranks) if ranks[i] < mu]\n",
    "\n",
    "        #create children\n",
    "        children = []\n",
    "        for i in selected:\n",
    "            #update best and best eval based on parent\n",
    "            if scores[i] < best_eval:\n",
    "                best, best_eval = population[i], scores[i]\n",
    "           \n",
    "            #count better children for calculating normalScare dynamically\n",
    "            betterChild = 0\n",
    "            # create children for parent\n",
    "            for _ in range(n_children):\n",
    "                child = None\n",
    "                while child is None or not in_bounds(child,bounds):\n",
    "                    child = []\n",
    "                    for j in range(n):\n",
    "                        child.append(population[i][j] + normal(loc=0, scale=normalScale))\n",
    "                if(objective(child,n) < objective(population[i],n)): # child is better than parent\n",
    "                    betterChild += 1\n",
    "                children.append(child)\n",
    "        \n",
    "        # evaluate new scale for gaussian distribution\n",
    "        ps = betterChild / n_children\n",
    "        if (ps < 1/5):\n",
    "            normalScale *= normalScaleC\n",
    "        elif (ps > 1/5):\n",
    "            normalScale /= normalScaleC\n",
    "\n",
    "        # replace current populations with children\n",
    "        population = children\n",
    "    return [best,best_eval]"
   ]
  },
  {
   "attachments": {},
   "cell_type": "markdown",
   "metadata": {},
   "source": [
    "specify the inputs and run the algorithm"
   ]
  },
  {
   "cell_type": "code",
   "execution_count": 147,
   "metadata": {},
   "outputs": [
    {
     "name": "stdout",
     "output_type": "stream",
     "text": [
      "ES Plus Done!\n",
      "f([5.665823982973315e-10, -1.5146649596651221e-09, -3.6332982737511355e-10, -7.761316395998634e-10, 2.225210119647783e-09, -5.25209952006054e-10, -7.689962305892046e-10, 8.192967914917064e-10, -1.4930513358804363e-09, -1.9613121025716496e-10, -1.1989635429556062e-10, 1.0097702922847483e-09, 1.343918590308935e-10, -4.948499742906742e-10, 6.101929415574262e-10, -9.853893436501818e-10, 7.785227749991018e-10, -9.688786176993563e-10, -1.2876051518804698e-09, 1.4950352072703534e-09, -7.109800269304237e-10, 7.028402527094857e-11, -1.0026962027612307e-09, -2.00293505254549e-09, 1.9815853413796387e-09, -1.5724445280061143e-09, -6.026456551428782e-10, -1.3022849375378298e-09, -2.015223677795709e-09, -3.1758908839183016e-10, 8.086886945962161e-10, -1.947562709623872e-09, 1.894933284847205e-09, 1.2429819959236982e-09, 4.622598081660163e-11, -8.068172507244836e-11, 4.0272334862396366e-10, -1.6029483138494412e-09, 1.0445977278577616e-09, -8.009164742906713e-10, 9.236812644093042e-10, -1.3798700291599682e-10, 2.0303132950513833e-09, 1.141794110591654e-10, 7.339036482963368e-10, 2.5481231942172063e-09, -1.5984962088476558e-09, 4.64301175807365e-11, -9.380555542520276e-10, 4.577413596514275e-10, 3.777977631042801e-10, -1.9510720476848983e-09, -7.272636055300074e-11, 1.4182229993369454e-10, 4.202652174886568e-11, -1.1471014846595068e-10, -6.573238693978587e-10, -1.2433856199118737e-09, -9.206536929684126e-10, 1.9089152597367903e-09, 2.802287188857076e-09, 1.1564570409503199e-09, 6.538065721571461e-10, 1.5936893301744685e-09, -6.244602604091108e-10, -1.0835386085722343e-09, 1.2230542764472957e-09, 4.844269435867615e-10, -1.4808407599685213e-10, -9.35941750017651e-10, 5.600874505573271e-10, 1.775549574397919e-11, 1.7257610447201608e-11, 2.5888767611776245e-10, 9.216766192621109e-10, 1.6366116540341087e-09, 1.0889644854868512e-09, 1.7951457237874244e-09, 4.980628284182918e-10, -3.417828449308727e-10, -1.211483690784309e-09, -1.751593637186819e-10, 6.401457428966602e-10, -2.3555776554850805e-10, 3.154314945071116e-10, -9.808088880618701e-11, -9.291774765134529e-10, 9.923561335408616e-10, -6.192814767017872e-10, 2.5376067041908723e-11, 4.781579882115936e-10, -3.153544082559786e-10, -3.549525965325528e-11, 7.48568091863146e-10, 1.7685900602879247e-09, 8.463899412932891e-10, -1.2800694985344762e-09, -6.887742058832337e-10, -1.4222679432403432e-09, -8.368865109983244e-10]) = 0.000000\n",
      "---------------------------\n",
      "ES Comma Done!\n",
      "f([-0.0023931779058116217, 0.0085322362095059, 0.00038936449322954, -0.007759029307063591, -0.009841635441229284, -0.00968472461081404, -0.007651766517730103, -0.0054807421258884015, -0.00383002882418903, -0.00819750781279376, 0.0030616543073090853, 0.010623763601826139, 0.005405565270074944, 0.005090407423472719, 0.010975579758978015, 0.02325250050887497, -0.00035506859940934914, -0.008310128285846288, 0.012401348483479896, -0.0011348787754364123, -0.004501111422405935, -0.011640922570757571, -0.0022860812586562055, -0.009079798410364354, -0.0015682648899414107, -0.004307672801891911, -0.003393852306359508, 0.007155454082049446, 0.021002164811057416, -0.005444213257358475, -0.003726253140874538, -0.03702526387214176, -0.009505019184295744, 0.009989790186417349, 7.452407672431274e-05, 0.007880191644166092, -0.0007698450899565144, 0.004490445425537995, -0.007538562856823113, 0.007612606324274271, -0.0018617488705150865, 0.011660777834874927, 0.005272815586767494, -0.02173125675099819, 0.006918619551226358, 0.008892947654838642, 0.015749254926880174, -0.0018535588918502277, 0.0071875367372046944, -0.0027821246950740807, 0.0035652802618280433, 0.008235911963730915, 0.02973536865704249, -0.003133615774443338, -0.011264350337072772, -0.01233156894857238, 0.009498246278677031, -0.005879407965913443, -0.009783530654251993, 0.008088058317694862, -0.004797184333608066, -0.004816022650821908, 0.023434795925998935, -0.0054740899018021925, -0.02018346103230441, 0.020060784319928734, 0.0017823405209720904, 0.01474432329944405, -0.0077710702570028935, 0.0016123940051415108, -0.007324262793508316, -0.004177856498924338, -0.002354425078678835, 0.003510434807358271, -0.013253407949353518, 0.010068258931955062, -0.0067603657008791385, 0.002879675258111395, -0.01573108964568482, -0.0007070947549689601, 0.01867710066675108, 0.004290908401498109, 0.008170258061164623, -0.006205487039755953, 0.005297342854263209, -0.017664376999385594, -0.0015655243811410811, -0.012594709581759034, 0.010489261071136347, -0.008809976850778965, -2.085218439337841e-05, 0.011569591740924454, -0.019109527922220898, -0.003999558830086999, 0.012460188413716792, -0.008122901086825014, -0.0066200209420695585, -0.0007401472393460476, -0.0017642217849975486, 0.00885591230439616]) = 0.011160\n"
     ]
    }
   ],
   "source": [
    "bounds = [-100,100]\n",
    "\n",
    "maxIterations = 5000\n",
    "\n",
    "mu = 2\n",
    "\n",
    "lam = 4\n",
    "\n",
    "n = 100\n",
    "\n",
    "population = initPopulation(lam, bounds, n) # same initial population for two algorithm\n",
    "\n",
    "best, score = esPlus(mu,lam,maxIterations,objective,bounds,n,population)\n",
    "print('ES Plus Done!')\n",
    "print('f(%s) = %f' % (best, score))\n",
    "\n",
    "print(\"---------------------------\")\n",
    "\n",
    "best, score = esComma(mu, lam, maxIterations, objective, bounds, n,population)\n",
    "print('ES Comma Done!')\n",
    "print('f(%s) = %f' % (best, score))\n"
   ]
  }
 ],
 "metadata": {
  "kernelspec": {
   "display_name": "Python 3",
   "language": "python",
   "name": "python3"
  },
  "language_info": {
   "codemirror_mode": {
    "name": "ipython",
    "version": 3
   },
   "file_extension": ".py",
   "mimetype": "text/x-python",
   "name": "python",
   "nbconvert_exporter": "python",
   "pygments_lexer": "ipython3",
   "version": "3.12.3"
  },
  "orig_nbformat": 4,
  "vscode": {
   "interpreter": {
    "hash": "916dbcbb3f70747c44a77c7bcd40155683ae19c65e1c03b4aa3499c5328201f1"
   }
  }
 },
 "nbformat": 4,
 "nbformat_minor": 2
}
